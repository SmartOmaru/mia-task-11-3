{
 "cells": [
  {
   "cell_type": "markdown",
   "id": "0",
   "metadata": {},
   "source": [
    "# Setup"
   ]
  },
  {
   "cell_type": "code",
   "execution_count": null,
   "id": "1",
   "metadata": {},
   "outputs": [],
   "source": [
    "import cv2\n",
    "import numpy as np\n",
    "from matplotlib import pyplot as plt"
   ]
  },
  {
   "cell_type": "code",
   "execution_count": null,
   "id": "2",
   "metadata": {},
   "outputs": [],
   "source": [
    "# Loads the image and gets its dimensions\n",
    "original_image = cv2.imread('test.jpg')\n",
    "H, W = original_image.shape[:2]\n",
    "\n",
    "# Converts the image to RGB instead OpenCV's default BGR format for matplotlib\n",
    "image_rgb = cv2.cvtColor(original_image, cv2.COLOR_BGR2RGB)\n",
    "\n",
    "plt.imshow(image_rgb)\n",
    "plt.axis('off')\n",
    "plt.show()"
   ]
  },
  {
   "cell_type": "markdown",
   "id": "3",
   "metadata": {},
   "source": [
    "# Edge Detection"
   ]
  },
  {
   "cell_type": "code",
   "execution_count": null,
   "id": "4",
   "metadata": {},
   "outputs": [],
   "source": [
    "# Converts image to grayscale for easier edge detection\n",
    "image_gray = cv2.cvtColor(original_image, cv2.COLOR_BGR2GRAY)\n",
    "\n",
    "plt.imshow(image_gray, cmap='gray')\n",
    "plt.axis('off')\n",
    "plt.show()"
   ]
  },
  {
   "cell_type": "code",
   "execution_count": null,
   "id": "5",
   "metadata": {},
   "outputs": [],
   "source": [
    "# Thresholds the grayscale image (removing white background) to get a binary image\n",
    "_, image_thresh = cv2.threshold(image_gray, 240, 255, cv2.THRESH_BINARY_INV)\n",
    "\n",
    "plt.imshow(image_thresh, cmap='gray')\n",
    "plt.axis('off')\n",
    "plt.show()"
   ]
  },
  {
   "cell_type": "code",
   "execution_count": null,
   "id": "6",
   "metadata": {},
   "outputs": [],
   "source": [
    "# Uses Canny edge detection algorithm on binary image\n",
    "image_edges = cv2.Canny(image_thresh, 50, 150)\n",
    "\n",
    "plt.imshow(image_edges, cmap='gray')\n",
    "plt.axis('off')\n",
    "plt.show()"
   ]
  },
  {
   "cell_type": "markdown",
   "id": "7",
   "metadata": {},
   "source": [
    "# Contour Detection"
   ]
  },
  {
   "cell_type": "code",
   "execution_count": null,
   "id": "8",
   "metadata": {},
   "outputs": [],
   "source": [
    "# Morphological operations to close gaps in edges and remove noise\n",
    "kernel = cv2.getStructuringElement(cv2.MORPH_RECT, (5,5))\n",
    "image_thresh = cv2.morphologyEx(image_thresh, cv2.MORPH_CLOSE, kernel, iterations=2)\n",
    "image_thresh = cv2.morphologyEx(image_thresh, cv2.MORPH_OPEN, kernel, iterations=1)\n",
    "\n",
    "plt.imshow(image_thresh, cmap='gray')\n",
    "plt.axis('off')\n",
    "plt.show()"
   ]
  },
  {
   "cell_type": "code",
   "execution_count": null,
   "id": "9",
   "metadata": {},
   "outputs": [],
   "source": [
    "# Finds contours from the edges detected\n",
    "contour, _ = cv2.findContours(image_edges, cv2.RETR_EXTERNAL, cv2.CHAIN_APPROX_SIMPLE)\n",
    "contour = sorted(contour, key=cv2.contourArea, reverse=True)\n",
    "\n",
    "# Makes a copy of the original image to draw contours on\n",
    "image_contours = original_image.copy()\n",
    "cv2.drawContours(image_contours, contour, -1, (255, 0, 255), 3)\n",
    "\n",
    "plt.imshow(cv2.cvtColor(image_contours, cv2.COLOR_BGR2RGB))\n",
    "plt.axis('off')\n",
    "plt.show()"
   ]
  },
  {
   "cell_type": "markdown",
   "id": "10",
   "metadata": {},
   "source": [
    "# Corner & Shape Detection"
   ]
  },
  {
   "cell_type": "code",
   "execution_count": null,
   "id": "11",
   "metadata": {},
   "outputs": [],
   "source": [
    "image_shape = original_image.copy()\n",
    "# Sets a minimum area threshold to filter out noise (0.001% of image area)\n",
    "min_area = 0.00001 * H * W\n",
    "\n",
    "# Iterates through each contour found\n",
    "for cnt in contour:\n",
    "    area = cv2.contourArea(cnt)\n",
    "    if area < min_area: # Filters out small contours that may be noise\n",
    "        continue\n",
    "\n",
    "    # Gets the perimeter of the contour\n",
    "    perimeter = cv2.arcLength(cnt, True)\n",
    "    # Uses Douglas-Peucker approximation method to approximate the contour to a polygon\n",
    "    approx = cv2.approxPolyDP(cnt, 0.02 * perimeter, True)\n",
    "\n",
    "    # Gets the number of corners in the approximated polygon\n",
    "    num_corners = len(approx)\n",
    "\n",
    "    # Calculates the aspect ratio of the bounding rectangle of the contour\n",
    "    x, y, w, h = cv2.boundingRect(approx)\n",
    "    aspect_ratio = float(w) / h\n",
    "\n",
    "    # Determines the shape based on the number of corners and aspect ratio\n",
    "    shape = \"Unidentified\"\n",
    "    if num_corners == 3:\n",
    "        shape = \"Triangle\"\n",
    "    elif num_corners == 4:\n",
    "        if 0.95 <= aspect_ratio <= 1.05: # Checks aspect ratio to differentiate between square and rectangle\n",
    "            shape = \"Square\"\n",
    "        else:\n",
    "            shape = \"Rectangle\"\n",
    "    elif num_corners > 4:\n",
    "        shape = \"Circle\"\n",
    "\n",
    "    # Draws the contour and shape name on the image\n",
    "    cv2.drawContours(image_shape, [approx], -1, (255, 0, 255), 2)\n",
    "    cv2.putText(image_shape, shape, (x, y - 10), cv2.FONT_HERSHEY_SIMPLEX, 1.2, (0, 0, 0), 2)\n",
    "\n",
    "plt.imshow(cv2.cvtColor(image_shape, cv2.COLOR_BGR2RGB))\n",
    "plt.axis('off')\n",
    "plt.show()"
   ]
  },
  {
   "cell_type": "markdown",
   "id": "12",
   "metadata": {},
   "source": [
    "# Color Detection"
   ]
  },
  {
   "cell_type": "code",
   "execution_count": null,
   "id": "13",
   "metadata": {},
   "outputs": [],
   "source": [
    "def detect_color(bgr_color):\n",
    "    # Converts BGR color to HSV and determines the color name based on HSV values\n",
    "    color = np.uint8([[bgr_color]])\n",
    "    hsv = cv2.cvtColor(color, cv2.COLOR_BGR2HSV)[0][0]\n",
    "    h, s, v = hsv\n",
    "\n",
    "    if v < 50:\n",
    "        return \"Black\"\n",
    "    if v > 200 and s < 40:\n",
    "        return \"White\"\n",
    "    if s < 40:\n",
    "        return \"Gray\"\n",
    "    if h < 10 or h >= 170:\n",
    "        return \"Red\"\n",
    "    elif 10 <= h < 25:\n",
    "        return \"Orange\"\n",
    "    elif 25 <= h < 35:\n",
    "        return \"Yellow\"\n",
    "    elif 35 <= h < 85:\n",
    "        return \"Green\"\n",
    "    elif 85 <= h < 125:\n",
    "        return \"Blue\"\n",
    "    elif 125 <= h < 170:\n",
    "        return \"Purple\"\n"
   ]
  },
  {
   "cell_type": "code",
   "execution_count": null,
   "id": "14",
   "metadata": {},
   "outputs": [],
   "source": [
    "image_shape = original_image.copy()\n",
    "for cnt in contour:\n",
    "    area = cv2.contourArea(cnt)\n",
    "    if area < min_area: # Filters out small contours that may be noise\n",
    "        continue\n",
    "\n",
    "    # Gets the perimeter of the contour\n",
    "    perimeter = cv2.arcLength(cnt, True)\n",
    "    # Uses Douglas-Peucker approximation method to approximate the contour to a polygon\n",
    "    approx = cv2.approxPolyDP(cnt, 0.02 * perimeter, True)\n",
    "\n",
    "    # Gets the number of corners in the approximated polygon\n",
    "    num_corners = len(approx)\n",
    "\n",
    "    # Calculates the aspect ratio of the bounding rectangle of the contour\n",
    "    x, y, w, h = cv2.boundingRect(approx)\n",
    "    aspect_ratio = float(w) / h\n",
    "\n",
    "    # Determines the shape based on the number of corners and aspect ratio\n",
    "    shape = \"Unidentified\"\n",
    "    if num_corners == 3:\n",
    "        shape = \"Triangle\"\n",
    "    elif num_corners == 4:\n",
    "        if 0.95 <= aspect_ratio <= 1.05: # Checks aspect ratio to differentiate between square and rectangle\n",
    "            shape = \"Square\"\n",
    "        else:\n",
    "            shape = \"Rectangle\"\n",
    "    elif num_corners > 4:\n",
    "        shape = \"Circle\"\n",
    "\n",
    "    # Creates a mask for the contour to calculate the mean color inside it\n",
    "    mask = np.zeros(image_gray.shape, dtype=\"uint8\")\n",
    "    cv2.drawContours(mask, [cnt], -1, 255, -1)\n",
    "    # Calculates the mean color inside the contour\n",
    "    mean_val = cv2.mean(original_image, mask=mask)[:3]\n",
    "    bgr_color = tuple(map(int, mean_val))\n",
    "    shape_color = detect_color(bgr_color)\n",
    "\n",
    "    label = f\"{shape}, {shape_color}\"\n",
    "    cv2.putText(image_shape, label, (x, y - 10), cv2.FONT_HERSHEY_SIMPLEX, 1.2, (0, 0, 0), 2)\n",
    "\n",
    "plt.imshow(cv2.cvtColor(image_shape, cv2.COLOR_BGR2RGB))\n",
    "plt.axis('off')\n",
    "plt.show()\n"
   ]
  }
 ],
 "metadata": {
  "kernelspec": {
   "display_name": ".venv (3.8.10)",
   "language": "python",
   "name": "python3"
  },
  "language_info": {
   "name": "python",
   "version": "3.8.10"
  }
 },
 "nbformat": 4,
 "nbformat_minor": 5
}
